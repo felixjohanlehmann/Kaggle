{
  "cells": [
    {
      "metadata": {
        "_uuid": "8f2839f25d086af736a60e9eeb907d3b93b6e0e5",
        "_cell_guid": "b1076dfc-b9ad-4769-8c92-a6c4dae69d19",
        "trusted": true
      },
      "cell_type": "code",
      "source": "# This Python 3 environment comes with many helpful analytics libraries installed\n# It is defined by the kaggle/python docker image: https://github.com/kaggle/docker-python\n# For example, here's several helpful packages to load in \n\nimport numpy as np # linear algebra\nimport pandas as pd # data processing, CSV file I/O (e.g. pd.read_csv)\n\n# Input data files are available in the \"../input/\" directory.\n# For example, running this (by clicking run or pressing Shift+Enter) will list the files in the input directory\n\nimport os\nprint(os.listdir(\"../input\"))\n\n# Any results you write to the current directory are saved as output.",
      "execution_count": 1,
      "outputs": [
        {
          "output_type": "stream",
          "text": "[]\n",
          "name": "stdout"
        }
      ]
    },
    {
      "metadata": {
        "_cell_guid": "79c7e3d0-c299-4dcb-8224-4455121ee9b0",
        "_uuid": "d629ff2d2480ee46fbb7e2d37f6b5fab8052498a",
        "trusted": true
      },
      "cell_type": "code",
      "source": "# Start by importing the bq_helper module and calling on the specific active_project and dataset_name for the BigQuery dataset.\nimport bq_helper\nfrom bq_helper import BigQueryHelper\n# https://www.kaggle.com/sohier/introduction-to-the-bq-helper-package\n\npatentsview = bq_helper.BigQueryHelper(active_project=\"patents-public-data\",\n                                   dataset_name=\"patentsview\")",
      "execution_count": 2,
      "outputs": []
    },
    {
      "metadata": {
        "trusted": true,
        "_uuid": "e1b552295be94db7a4dbaec24ad390ae99781cdc"
      },
      "cell_type": "code",
      "source": "# View table names under the patentsview data table\nbq_assistant = BigQueryHelper(\"patents-public-data\", \"patentsview\")\nbq_assistant.list_tables()",
      "execution_count": 3,
      "outputs": [
        {
          "output_type": "execute_result",
          "execution_count": 3,
          "data": {
            "text/plain": "['application',\n 'application_201708',\n 'assignee',\n 'assignee_201708',\n 'botanic',\n 'botanic_201708',\n 'brf_sum_text',\n 'brf_sum_text_201708',\n 'claim',\n 'claim_201708',\n 'cpc_current',\n 'cpc_current_201708',\n 'cpc_group',\n 'cpc_group_201708',\n 'cpc_subgroup',\n 'cpc_subgroup_201708',\n 'cpc_subsection',\n 'cpc_subsection_201708',\n 'draw_desc_text',\n 'draw_desc_text_201708',\n 'figures',\n 'figures_201708',\n 'foreign_priority',\n 'foreign_priority_201708',\n 'foreigncitation',\n 'foreigncitation_201708',\n 'government_interest',\n 'government_interest_201708',\n 'government_organization',\n 'government_organization_201708',\n 'inventor',\n 'inventor_201708',\n 'ipcr',\n 'ipcr_201708',\n 'lawyer',\n 'lawyer_201708',\n 'location',\n 'location_201708',\n 'location_assignee',\n 'location_assignee_201708',\n 'location_inventor',\n 'location_inventor_201708',\n 'mainclass',\n 'mainclass_201708',\n 'mainclass_current',\n 'mainclass_current_201708',\n 'match',\n 'match_201780',\n 'nber',\n 'nber_201708',\n 'nber_category',\n 'nber_category_201708',\n 'nber_subcategory',\n 'nber_subcategory_201708',\n 'non_inventor_applicant',\n 'non_inventor_applicant_201708',\n 'otherreference',\n 'otherreference_201708',\n 'patent',\n 'patent_201708',\n 'patent_assignee',\n 'patent_assignee_201708',\n 'patent_contractawardnumber',\n 'patent_contractawardnumber_201708',\n 'patent_govintorg',\n 'patent_govintorg_201708',\n 'patent_inventor',\n 'patent_inventor_201708',\n 'patent_lawyer',\n 'patent_lawyer_201708',\n 'pct_data',\n 'pct_data_201708',\n 'persistent_inventor_disamb',\n 'persistent_inventor_disamb_201708',\n 'rawassignee',\n 'rawassignee_201708',\n 'rawexaminer',\n 'rawexaminer_201708',\n 'rawinventor',\n 'rawinventor_201708',\n 'rawlawyer',\n 'rawlawyer_201708',\n 'rawlocation',\n 'rawlocation_201708',\n 'rel_app_text',\n 'rel_app_text_201708',\n 'subclass',\n 'subclass_201708',\n 'subclass_current',\n 'subclass_current_201708',\n 'us_term_of_grant',\n 'us_term_of_grant_201708',\n 'usapplicationcitation',\n 'usapplicationcitation_201708',\n 'uspatentcitation',\n 'uspatentcitation_201708',\n 'uspc',\n 'uspc_201708',\n 'uspc_current',\n 'uspc_current_201708',\n 'usreldoc',\n 'usreldoc_201708',\n 'wipo',\n 'wipo_201708',\n 'wipo_field',\n 'wipo_field_201708']"
          },
          "metadata": {}
        }
      ]
    },
    {
      "metadata": {
        "trusted": true,
        "_uuid": "09cca84d9febd423acc4cddef3d06be17f808e3e"
      },
      "cell_type": "code",
      "source": "# View the first three rows of the patent data table\nbq_assistant.head(\"patent\", num_rows=3)",
      "execution_count": 4,
      "outputs": [
        {
          "output_type": "execute_result",
          "execution_count": 4,
          "data": {
            "text/plain": "        id     type           ...            num_claims                 filename\n0  3930407  utility           ...                     4  pftaps19760106_wk01.zip\n1  3931566  utility           ...                     1  pftaps19760106_wk01.zip\n2  3931000  utility           ...                     6  pftaps19760106_wk01.zip\n\n[3 rows x 10 columns]",
            "text/html": "<div>\n<style scoped>\n    .dataframe tbody tr th:only-of-type {\n        vertical-align: middle;\n    }\n\n    .dataframe tbody tr th {\n        vertical-align: top;\n    }\n\n    .dataframe thead th {\n        text-align: right;\n    }\n</style>\n<table border=\"1\" class=\"dataframe\">\n  <thead>\n    <tr style=\"text-align: right;\">\n      <th></th>\n      <th>id</th>\n      <th>type</th>\n      <th>number</th>\n      <th>country</th>\n      <th>date</th>\n      <th>abstract</th>\n      <th>title</th>\n      <th>kind</th>\n      <th>num_claims</th>\n      <th>filename</th>\n    </tr>\n  </thead>\n  <tbody>\n    <tr>\n      <th>0</th>\n      <td>3930407</td>\n      <td>utility</td>\n      <td>3930407</td>\n      <td>US</td>\n      <td>1976-01-06</td>\n      <td>Water-washable inspection penetrant compositi...</td>\n      <td>Water-washable inspection penetrant employing ...</td>\n      <td>A</td>\n      <td>4</td>\n      <td>pftaps19760106_wk01.zip</td>\n    </tr>\n    <tr>\n      <th>1</th>\n      <td>3931566</td>\n      <td>utility</td>\n      <td>3931566</td>\n      <td>US</td>\n      <td>1976-01-06</td>\n      <td>A converter power supply is provided with a n...</td>\n      <td>Temperature compensated current sensing circui...</td>\n      <td>A</td>\n      <td>1</td>\n      <td>pftaps19760106_wk01.zip</td>\n    </tr>\n    <tr>\n      <th>2</th>\n      <td>3931000</td>\n      <td>utility</td>\n      <td>3931000</td>\n      <td>US</td>\n      <td>1976-01-06</td>\n      <td>Insoluble gases, liquid and solid materials p...</td>\n      <td>Coalescing dialysis</td>\n      <td>A</td>\n      <td>6</td>\n      <td>pftaps19760106_wk01.zip</td>\n    </tr>\n  </tbody>\n</table>\n</div>"
          },
          "metadata": {}
        }
      ]
    },
    {
      "metadata": {
        "trusted": true,
        "_uuid": "3899f766a4d032124220288c8225aa9d5c5a8b17"
      },
      "cell_type": "code",
      "source": "# View information on all columns in the patent data table\nbq_assistant.table_schema(\"patent\")",
      "execution_count": 5,
      "outputs": [
        {
          "output_type": "execute_result",
          "execution_count": 5,
          "data": {
            "text/plain": "         name    type      mode description\n0          id  STRING  NULLABLE        None\n1        type  STRING  NULLABLE        None\n2      number  STRING  NULLABLE        None\n3     country  STRING  NULLABLE        None\n4        date  STRING  NULLABLE        None\n5    abstract  STRING  NULLABLE        None\n6       title  STRING  NULLABLE        None\n7        kind  STRING  NULLABLE        None\n8  num_claims  STRING  NULLABLE        None\n9    filename  STRING  NULLABLE        None",
            "text/html": "<div>\n<style scoped>\n    .dataframe tbody tr th:only-of-type {\n        vertical-align: middle;\n    }\n\n    .dataframe tbody tr th {\n        vertical-align: top;\n    }\n\n    .dataframe thead th {\n        text-align: right;\n    }\n</style>\n<table border=\"1\" class=\"dataframe\">\n  <thead>\n    <tr style=\"text-align: right;\">\n      <th></th>\n      <th>name</th>\n      <th>type</th>\n      <th>mode</th>\n      <th>description</th>\n    </tr>\n  </thead>\n  <tbody>\n    <tr>\n      <th>0</th>\n      <td>id</td>\n      <td>STRING</td>\n      <td>NULLABLE</td>\n      <td>None</td>\n    </tr>\n    <tr>\n      <th>1</th>\n      <td>type</td>\n      <td>STRING</td>\n      <td>NULLABLE</td>\n      <td>None</td>\n    </tr>\n    <tr>\n      <th>2</th>\n      <td>number</td>\n      <td>STRING</td>\n      <td>NULLABLE</td>\n      <td>None</td>\n    </tr>\n    <tr>\n      <th>3</th>\n      <td>country</td>\n      <td>STRING</td>\n      <td>NULLABLE</td>\n      <td>None</td>\n    </tr>\n    <tr>\n      <th>4</th>\n      <td>date</td>\n      <td>STRING</td>\n      <td>NULLABLE</td>\n      <td>None</td>\n    </tr>\n    <tr>\n      <th>5</th>\n      <td>abstract</td>\n      <td>STRING</td>\n      <td>NULLABLE</td>\n      <td>None</td>\n    </tr>\n    <tr>\n      <th>6</th>\n      <td>title</td>\n      <td>STRING</td>\n      <td>NULLABLE</td>\n      <td>None</td>\n    </tr>\n    <tr>\n      <th>7</th>\n      <td>kind</td>\n      <td>STRING</td>\n      <td>NULLABLE</td>\n      <td>None</td>\n    </tr>\n    <tr>\n      <th>8</th>\n      <td>num_claims</td>\n      <td>STRING</td>\n      <td>NULLABLE</td>\n      <td>None</td>\n    </tr>\n    <tr>\n      <th>9</th>\n      <td>filename</td>\n      <td>STRING</td>\n      <td>NULLABLE</td>\n      <td>None</td>\n    </tr>\n  </tbody>\n</table>\n</div>"
          },
          "metadata": {}
        }
      ]
    },
    {
      "metadata": {
        "trusted": true,
        "_uuid": "c107cf7e6f83a04b1a796ef3346d0de9c6fec212"
      },
      "cell_type": "code",
      "source": "# View the first ten rows of the ipcr data table\nbq_assistant.head(\"ipcr\", num_rows=10)",
      "execution_count": 6,
      "outputs": [
        {
          "output_type": "execute_result",
          "execution_count": 6,
          "data": {
            "text/plain": "                        uuid patent_id   ...    ipc_version_indicator sequence\n0  0czg4y6eo5i2njysjikzhwcvn   8413960   ...               2006-01-01        0\n1  0je251fzcv4qkz6bepeauimy5   7793429   ...               2006-01-01        0\n2  0mrwcb47v06r0fz4iqt043ekj   8844167   ...               2006-01-01        0\n3  0x8cpieesh1kux1ejx1i52xk7   8088221   ...               2006-01-01        0\n4  0z4a8sf9hp0kaufxjn1wo7ynk   9688530   ...               2006-01-01        0\n5  13gj2tqdk4fmo7r2d9iq12xf3   8556210   ...               2006-01-01        0\n6  1ff8ibb011lc4zlfuucrj703l   7424997   ...               2006-01-01        0\n7  1n8355t0uoz7to5sdwn3o1zdw   9422548   ...               2006-01-01        0\n8  1sn8xsqxc56x6n1r44lfbx8kd   6991133   ...               2006-01-01        0\n9  1wclon7m63zfjwzrippp6376r   9190267   ...               2006-01-01        0\n\n[10 rows x 15 columns]",
            "text/html": "<div>\n<style scoped>\n    .dataframe tbody tr th:only-of-type {\n        vertical-align: middle;\n    }\n\n    .dataframe tbody tr th {\n        vertical-align: top;\n    }\n\n    .dataframe thead th {\n        text-align: right;\n    }\n</style>\n<table border=\"1\" class=\"dataframe\">\n  <thead>\n    <tr style=\"text-align: right;\">\n      <th></th>\n      <th>uuid</th>\n      <th>patent_id</th>\n      <th>classification_level</th>\n      <th>section</th>\n      <th>ipc_class</th>\n      <th>subclass</th>\n      <th>main_group</th>\n      <th>subgroup</th>\n      <th>symbol_position</th>\n      <th>classification_value</th>\n      <th>classification_status</th>\n      <th>classification_data_source</th>\n      <th>action_date</th>\n      <th>ipc_version_indicator</th>\n      <th>sequence</th>\n    </tr>\n  </thead>\n  <tbody>\n    <tr>\n      <th>0</th>\n      <td>0czg4y6eo5i2njysjikzhwcvn</td>\n      <td>8413960</td>\n      <td>A</td>\n      <td>B</td>\n      <td>66</td>\n      <td>F</td>\n      <td>3</td>\n      <td>35</td>\n      <td>F</td>\n      <td>I</td>\n      <td>B</td>\n      <td>H</td>\n      <td>2013-04-09</td>\n      <td>2006-01-01</td>\n      <td>0</td>\n    </tr>\n    <tr>\n      <th>1</th>\n      <td>0je251fzcv4qkz6bepeauimy5</td>\n      <td>7793429</td>\n      <td>A</td>\n      <td>A</td>\n      <td>43</td>\n      <td>B</td>\n      <td>13</td>\n      <td>00</td>\n      <td>F</td>\n      <td>I</td>\n      <td>B</td>\n      <td>H</td>\n      <td>2010-09-14</td>\n      <td>2006-01-01</td>\n      <td>0</td>\n    </tr>\n    <tr>\n      <th>2</th>\n      <td>0mrwcb47v06r0fz4iqt043ekj</td>\n      <td>8844167</td>\n      <td>A</td>\n      <td>A</td>\n      <td>43</td>\n      <td>C</td>\n      <td>11</td>\n      <td>00</td>\n      <td>F</td>\n      <td>I</td>\n      <td>B</td>\n      <td>H</td>\n      <td>2014-09-30</td>\n      <td>2006-01-01</td>\n      <td>0</td>\n    </tr>\n    <tr>\n      <th>3</th>\n      <td>0x8cpieesh1kux1ejx1i52xk7</td>\n      <td>8088221</td>\n      <td>A</td>\n      <td>C</td>\n      <td>30</td>\n      <td>B</td>\n      <td>29</td>\n      <td>04</td>\n      <td>F</td>\n      <td>I</td>\n      <td>B</td>\n      <td>H</td>\n      <td>2012-01-03</td>\n      <td>2006-01-01</td>\n      <td>0</td>\n    </tr>\n    <tr>\n      <th>4</th>\n      <td>0z4a8sf9hp0kaufxjn1wo7ynk</td>\n      <td>9688530</td>\n      <td>A</td>\n      <td>B</td>\n      <td>81</td>\n      <td>B</td>\n      <td>1</td>\n      <td>00</td>\n      <td>F</td>\n      <td>I</td>\n      <td>B</td>\n      <td>H</td>\n      <td>2017-06-27</td>\n      <td>2006-01-01</td>\n      <td>0</td>\n    </tr>\n    <tr>\n      <th>5</th>\n      <td>13gj2tqdk4fmo7r2d9iq12xf3</td>\n      <td>8556210</td>\n      <td>A</td>\n      <td>B</td>\n      <td>64</td>\n      <td>C</td>\n      <td>25</td>\n      <td>32</td>\n      <td>F</td>\n      <td>I</td>\n      <td>B</td>\n      <td>H</td>\n      <td>2013-10-15</td>\n      <td>2006-01-01</td>\n      <td>0</td>\n    </tr>\n    <tr>\n      <th>6</th>\n      <td>1ff8ibb011lc4zlfuucrj703l</td>\n      <td>7424997</td>\n      <td>A</td>\n      <td>B</td>\n      <td>66</td>\n      <td>D</td>\n      <td>1</td>\n      <td>14</td>\n      <td>F</td>\n      <td>I</td>\n      <td>B</td>\n      <td>H</td>\n      <td>2008-09-16</td>\n      <td>2006-01-01</td>\n      <td>0</td>\n    </tr>\n    <tr>\n      <th>7</th>\n      <td>1n8355t0uoz7to5sdwn3o1zdw</td>\n      <td>9422548</td>\n      <td>A</td>\n      <td>C</td>\n      <td>40</td>\n      <td>B</td>\n      <td>30</td>\n      <td>04</td>\n      <td>F</td>\n      <td>I</td>\n      <td>B</td>\n      <td>H</td>\n      <td>2016-08-23</td>\n      <td>2006-01-01</td>\n      <td>0</td>\n    </tr>\n    <tr>\n      <th>8</th>\n      <td>1sn8xsqxc56x6n1r44lfbx8kd</td>\n      <td>6991133</td>\n      <td>A</td>\n      <td>B</td>\n      <td>67</td>\n      <td>D</td>\n      <td>5</td>\n      <td>006</td>\n      <td>F</td>\n      <td>I</td>\n      <td>B</td>\n      <td>H</td>\n      <td>2006-01-31</td>\n      <td>2006-01-01</td>\n      <td>0</td>\n    </tr>\n    <tr>\n      <th>9</th>\n      <td>1wclon7m63zfjwzrippp6376r</td>\n      <td>9190267</td>\n      <td>A</td>\n      <td>C</td>\n      <td>30</td>\n      <td>B</td>\n      <td>29</td>\n      <td>06</td>\n      <td>F</td>\n      <td>I</td>\n      <td>B</td>\n      <td>H</td>\n      <td>2015-11-17</td>\n      <td>2006-01-01</td>\n      <td>0</td>\n    </tr>\n  </tbody>\n</table>\n</div>"
          },
          "metadata": {}
        }
      ]
    },
    {
      "metadata": {
        "trusted": true,
        "_uuid": "aef22c4e4f4d2c7b918ebeeb2c3d88fd81ae91cd"
      },
      "cell_type": "code",
      "source": "# View information on all columns in the ipcr data table\nbq_assistant.table_schema(\"ipcr\")",
      "execution_count": 7,
      "outputs": [
        {
          "output_type": "execute_result",
          "execution_count": 7,
          "data": {
            "text/plain": "                          name    type      mode description\n0                         uuid  STRING  NULLABLE        None\n1                    patent_id  STRING  NULLABLE        None\n2         classification_level  STRING  NULLABLE        None\n3                      section  STRING  NULLABLE        None\n4                    ipc_class  STRING  NULLABLE        None\n5                     subclass  STRING  NULLABLE        None\n6                   main_group  STRING  NULLABLE        None\n7                     subgroup  STRING  NULLABLE        None\n8              symbol_position  STRING  NULLABLE        None\n9         classification_value  STRING  NULLABLE        None\n10       classification_status  STRING  NULLABLE        None\n11  classification_data_source  STRING  NULLABLE        None\n12                 action_date  STRING  NULLABLE        None\n13       ipc_version_indicator  STRING  NULLABLE        None\n14                    sequence  STRING  NULLABLE        None",
            "text/html": "<div>\n<style scoped>\n    .dataframe tbody tr th:only-of-type {\n        vertical-align: middle;\n    }\n\n    .dataframe tbody tr th {\n        vertical-align: top;\n    }\n\n    .dataframe thead th {\n        text-align: right;\n    }\n</style>\n<table border=\"1\" class=\"dataframe\">\n  <thead>\n    <tr style=\"text-align: right;\">\n      <th></th>\n      <th>name</th>\n      <th>type</th>\n      <th>mode</th>\n      <th>description</th>\n    </tr>\n  </thead>\n  <tbody>\n    <tr>\n      <th>0</th>\n      <td>uuid</td>\n      <td>STRING</td>\n      <td>NULLABLE</td>\n      <td>None</td>\n    </tr>\n    <tr>\n      <th>1</th>\n      <td>patent_id</td>\n      <td>STRING</td>\n      <td>NULLABLE</td>\n      <td>None</td>\n    </tr>\n    <tr>\n      <th>2</th>\n      <td>classification_level</td>\n      <td>STRING</td>\n      <td>NULLABLE</td>\n      <td>None</td>\n    </tr>\n    <tr>\n      <th>3</th>\n      <td>section</td>\n      <td>STRING</td>\n      <td>NULLABLE</td>\n      <td>None</td>\n    </tr>\n    <tr>\n      <th>4</th>\n      <td>ipc_class</td>\n      <td>STRING</td>\n      <td>NULLABLE</td>\n      <td>None</td>\n    </tr>\n    <tr>\n      <th>5</th>\n      <td>subclass</td>\n      <td>STRING</td>\n      <td>NULLABLE</td>\n      <td>None</td>\n    </tr>\n    <tr>\n      <th>6</th>\n      <td>main_group</td>\n      <td>STRING</td>\n      <td>NULLABLE</td>\n      <td>None</td>\n    </tr>\n    <tr>\n      <th>7</th>\n      <td>subgroup</td>\n      <td>STRING</td>\n      <td>NULLABLE</td>\n      <td>None</td>\n    </tr>\n    <tr>\n      <th>8</th>\n      <td>symbol_position</td>\n      <td>STRING</td>\n      <td>NULLABLE</td>\n      <td>None</td>\n    </tr>\n    <tr>\n      <th>9</th>\n      <td>classification_value</td>\n      <td>STRING</td>\n      <td>NULLABLE</td>\n      <td>None</td>\n    </tr>\n    <tr>\n      <th>10</th>\n      <td>classification_status</td>\n      <td>STRING</td>\n      <td>NULLABLE</td>\n      <td>None</td>\n    </tr>\n    <tr>\n      <th>11</th>\n      <td>classification_data_source</td>\n      <td>STRING</td>\n      <td>NULLABLE</td>\n      <td>None</td>\n    </tr>\n    <tr>\n      <th>12</th>\n      <td>action_date</td>\n      <td>STRING</td>\n      <td>NULLABLE</td>\n      <td>None</td>\n    </tr>\n    <tr>\n      <th>13</th>\n      <td>ipc_version_indicator</td>\n      <td>STRING</td>\n      <td>NULLABLE</td>\n      <td>None</td>\n    </tr>\n    <tr>\n      <th>14</th>\n      <td>sequence</td>\n      <td>STRING</td>\n      <td>NULLABLE</td>\n      <td>None</td>\n    </tr>\n  </tbody>\n</table>\n</div>"
          },
          "metadata": {}
        }
      ]
    },
    {
      "metadata": {
        "trusted": true,
        "_uuid": "4f3c904b16428b856fc9b86a87332592f9e44bd4"
      },
      "cell_type": "markdown",
      "source": "What is the IPC?\n\nhttps://en.wikipedia.org/wiki/International_Patent_Classification"
    },
    {
      "metadata": {
        "trusted": true,
        "_uuid": "07966e3a3e40ae93d0fbe82b71481134e08f950d"
      },
      "cell_type": "code",
      "source": "query = \"\"\"\nSELECT DISTINCT\n  a.id, a.abstract, b.section\nFROM\n  `patents-public-data.patentsview.patent` a\nINNER JOIN\n  `patents-public-data.patentsview.ipcr` b\nON\n  a.id = b.patent_id\nWHERE\n  a.type = 'utility'\nLIMIT\n  20000;\n        \"\"\"\n\nbq_assistant.estimate_query_size(query)",
      "execution_count": 81,
      "outputs": [
        {
          "output_type": "execute_result",
          "execution_count": 81,
          "data": {
            "text/plain": "4.118330323137343"
          },
          "metadata": {}
        }
      ]
    },
    {
      "metadata": {
        "trusted": true,
        "_uuid": "9b5dfa90d910c3d21ebecad24ab340c96b6b67ac"
      },
      "cell_type": "code",
      "source": "response = patentsview.query_to_pandas(query)\nresponse.head(10)",
      "execution_count": 82,
      "outputs": [
        {
          "output_type": "execute_result",
          "execution_count": 82,
          "data": {
            "text/plain": "        id                                           abstract section\n0  4735557   A pump for conveying a viscous medium, compri...       I\n1  5323841   As a reversal of previous practice, the annul...       J\n2  6082077   A tube filling machine, including a conveying...       P\n3  9603399  Sleeve assembly for a shirt includes a sleeve ...       A\n4  4818274   A method of delaying flowering in plants whic...       A\n5  8114072  An electrical ablation apparatus includes a ho...       A\n6  9078496  There is provided a tip configured for removab...       A\n7  5707350   A surgical instrument that includes a rigid o...       A\n8  8380315  The present disclosure relates to methods, dev...       A\n9  6683072  Compounds according to the formula as defined ...       A",
            "text/html": "<div>\n<style scoped>\n    .dataframe tbody tr th:only-of-type {\n        vertical-align: middle;\n    }\n\n    .dataframe tbody tr th {\n        vertical-align: top;\n    }\n\n    .dataframe thead th {\n        text-align: right;\n    }\n</style>\n<table border=\"1\" class=\"dataframe\">\n  <thead>\n    <tr style=\"text-align: right;\">\n      <th></th>\n      <th>id</th>\n      <th>abstract</th>\n      <th>section</th>\n    </tr>\n  </thead>\n  <tbody>\n    <tr>\n      <th>0</th>\n      <td>4735557</td>\n      <td>A pump for conveying a viscous medium, compri...</td>\n      <td>I</td>\n    </tr>\n    <tr>\n      <th>1</th>\n      <td>5323841</td>\n      <td>As a reversal of previous practice, the annul...</td>\n      <td>J</td>\n    </tr>\n    <tr>\n      <th>2</th>\n      <td>6082077</td>\n      <td>A tube filling machine, including a conveying...</td>\n      <td>P</td>\n    </tr>\n    <tr>\n      <th>3</th>\n      <td>9603399</td>\n      <td>Sleeve assembly for a shirt includes a sleeve ...</td>\n      <td>A</td>\n    </tr>\n    <tr>\n      <th>4</th>\n      <td>4818274</td>\n      <td>A method of delaying flowering in plants whic...</td>\n      <td>A</td>\n    </tr>\n    <tr>\n      <th>5</th>\n      <td>8114072</td>\n      <td>An electrical ablation apparatus includes a ho...</td>\n      <td>A</td>\n    </tr>\n    <tr>\n      <th>6</th>\n      <td>9078496</td>\n      <td>There is provided a tip configured for removab...</td>\n      <td>A</td>\n    </tr>\n    <tr>\n      <th>7</th>\n      <td>5707350</td>\n      <td>A surgical instrument that includes a rigid o...</td>\n      <td>A</td>\n    </tr>\n    <tr>\n      <th>8</th>\n      <td>8380315</td>\n      <td>The present disclosure relates to methods, dev...</td>\n      <td>A</td>\n    </tr>\n    <tr>\n      <th>9</th>\n      <td>6683072</td>\n      <td>Compounds according to the formula as defined ...</td>\n      <td>A</td>\n    </tr>\n  </tbody>\n</table>\n</div>"
          },
          "metadata": {}
        }
      ]
    },
    {
      "metadata": {
        "trusted": true,
        "_uuid": "4e80f6445ecc70121d3f59abf70c402d1fd535d8"
      },
      "cell_type": "code",
      "source": "response.shape",
      "execution_count": 83,
      "outputs": [
        {
          "output_type": "execute_result",
          "execution_count": 83,
          "data": {
            "text/plain": "(20000, 3)"
          },
          "metadata": {}
        }
      ]
    },
    {
      "metadata": {
        "trusted": true,
        "_uuid": "99c12240c91ce63deb892deaed0b4e0fc409b4a7"
      },
      "cell_type": "code",
      "source": "labels_df = response[\"section\"]\nfeatures_df = response[\"abstract\"]",
      "execution_count": 84,
      "outputs": []
    },
    {
      "metadata": {
        "trusted": true,
        "_uuid": "2493a3bd30f4e23f7e96de214fa79ffdbb00409e"
      },
      "cell_type": "code",
      "source": "Section_dict = {}\nsections = ['A', 'B', 'C', 'D', 'E', 'F', 'G', 'H']\nfor section in sections:\n    Section_dict[section] = labels_df.str.count(section).sum()\n\nSection_dict",
      "execution_count": 85,
      "outputs": [
        {
          "output_type": "execute_result",
          "execution_count": 85,
          "data": {
            "text/plain": "{'A': 2688,\n 'B': 3255,\n 'C': 2354,\n 'D': 195,\n 'E': 554,\n 'F': 1580,\n 'G': 5026,\n 'H': 4345}"
          },
          "metadata": {}
        }
      ]
    },
    {
      "metadata": {
        "trusted": true,
        "_uuid": "4c07c90297fc01b70a25d70874bccaca1948326f"
      },
      "cell_type": "code",
      "source": "sum(Section_dict.values())",
      "execution_count": 86,
      "outputs": [
        {
          "output_type": "error",
          "ename": "TypeError",
          "evalue": "'int' object is not callable",
          "traceback": [
            "\u001b[0;31m---------------------------------------------------------------------------\u001b[0m",
            "\u001b[0;31mTypeError\u001b[0m                                 Traceback (most recent call last)",
            "\u001b[0;32m<ipython-input-86-52dccaa10dbe>\u001b[0m in \u001b[0;36m<module>\u001b[0;34m()\u001b[0m\n\u001b[0;32m----> 1\u001b[0;31m \u001b[0msum\u001b[0m\u001b[0;34m(\u001b[0m\u001b[0mSection_dict\u001b[0m\u001b[0;34m.\u001b[0m\u001b[0mvalues\u001b[0m\u001b[0;34m(\u001b[0m\u001b[0;34m)\u001b[0m\u001b[0;34m)\u001b[0m\u001b[0;34m\u001b[0m\u001b[0m\n\u001b[0m",
            "\u001b[0;31mTypeError\u001b[0m: 'int' object is not callable"
          ]
        }
      ]
    },
    {
      "metadata": {
        "trusted": true,
        "_uuid": "3e476ce3e024b108c28646c64055bd9fc86ff6ba"
      },
      "cell_type": "code",
      "source": "#plot distribution of sections\nimport matplotlib.pyplot as plt\nplt.bar(range(len(Section_dict)), list(Section_dict.values()), align='center')\nplt.xticks(range(len(Section_dict)), list(Section_dict.keys()))\nplt.show()",
      "execution_count": 87,
      "outputs": [
        {
          "output_type": "display_data",
          "data": {
            "text/plain": "<Figure size 432x288 with 1 Axes>",
            "image/png": "[encoded data removed]"
          },
          "metadata": {}
        }
      ]
    },
    {
      "metadata": {
        "trusted": true,
        "_uuid": "b2a3520803925172f8d9d3bba76bf35c7a13d986"
      },
      "cell_type": "code",
      "source": "#plot relative distribution of sections\nplt.bar(range(len(Section_dict)), np.array(list(Section_dict.values()))/len(labels_df), align='center')\nplt.xticks(range(len(Section_dict)), list(Section_dict.keys()))\nplt.show()",
      "execution_count": 88,
      "outputs": [
        {
          "output_type": "display_data",
          "data": {
            "text/plain": "<Figure size 432x288 with 1 Axes>",
            "image/png": "[encoded data removed]"
          },
          "metadata": {}
        }
      ]
    },
    {
      "metadata": {
        "trusted": true,
        "_uuid": "2334185e6458e0af009553fbce53fdf59add4d0c"
      },
      "cell_type": "code",
      "source": "def to_multilabel_encode(features, labels, num_codes):\n    \"\"\"Input:\n        features: list of the features\n        labels: list of the labels associated with each feature in features, \n                wherein the labels are single uppercase letters from A to ...(defined by num_codes)\n        num_codes: int, maximum number of codes\n        Output:\n            tuple of two numpy arrays, wherein the first array contains the features\n            and the second array contains the corresponding features encoded in a \"multi\"-hot-encoding\n    \"\"\"\n    assert len(labels) == len(features)\n    assert num_codes > 0\n    assert type(labels) == type([])\n    assert type(features) == type([])\n    features_final = []\n    labels_final = []\n    label_vector = np.zeros(num_codes)\n    \n    for index, feature in enumerate(features):\n        if feature == None:\n            pass #skipping missing abstracts\n        else:\n            if index == 0:\n                try:\n                    label_vector[ord(labels[index]) - 65] = 1\n                except:\n                    pass #skipping labels, which do not fit to the assumption of \"uppercase letters from A ...(defined by num_codes)\"\n            else:\n                if feature == features[index - 1]:\n                    try:\n                        label_vector[ord(labels[index]) - 65] = 1\n                    except:\n                        pass #skipping labels, which do not fit to the assumption of \"uppercase letters from A ...(defined by num_codes)\"\n                else:\n                    labels_final.append(label_vector)\n                    features_final.append(features[index - 1])\n                    label_vector = np.zeros(num_codes)\n                    try:\n                        label_vector[ord(labels[index]) - 65] = 1\n                    except:\n                        pass #skipping labels, which do not fit to the assumption of \"uppercase letters from A ...(defined by num_codes)\"\n\n    labels_final.append(label_vector)\n    features_final.append(features[-1])\n    \n    return (np.array(features_final), np.array(labels_final))",
      "execution_count": 89,
      "outputs": []
    },
    {
      "metadata": {
        "trusted": true,
        "_uuid": "eceea9a23817f94341269f4b62a73c686eb2ab03"
      },
      "cell_type": "code",
      "source": "#turning the features and labels data frames to lists\nfeatures_list = features_df.tolist()\nlabels_list = labels_df.tolist()",
      "execution_count": 90,
      "outputs": []
    },
    {
      "metadata": {
        "trusted": true,
        "_uuid": "0230a1f76a8de85d70fb479f70bac3d33666944e"
      },
      "cell_type": "code",
      "source": "#looking for None values (= missing abstracts) in the features list \ndef look_for_None_values(list):\n    sum_value = 0\n    for index, element in enumerate(list):\n        if element == None:\n            sum_value += 1\n            #print(index)\n\n    print(\"None values in features list: \", sum_value)\n\nlook_for_None_values(features_list)",
      "execution_count": 93,
      "outputs": [
        {
          "output_type": "stream",
          "text": "None values in features list:  0\n",
          "name": "stdout"
        }
      ]
    },
    {
      "metadata": {
        "trusted": true,
        "_uuid": "25590152bdfe9a58d2ab0aeb619fe82df8aa34bc"
      },
      "cell_type": "code",
      "source": "#cleaning feature label pairs where the abstract in the features list is missing\nfeatures_cleaned = []\nlabels_cleaned = []\nfor index, element in enumerate(features_list):\n    if element is not None:\n        features_cleaned.append(element)\n        labels_cleaned.append(labels_list[index])\nfeatures_list = features_cleaned[:]\nlabels_list = labels_cleaned[:]",
      "execution_count": 92,
      "outputs": []
    },
    {
      "metadata": {
        "trusted": true,
        "_uuid": "b524ce0e0c79dcea2ff16bb5508b014977c303d5"
      },
      "cell_type": "code",
      "source": "#Looking for None values again\nlook_for_None_values(features_list)",
      "execution_count": 94,
      "outputs": [
        {
          "output_type": "stream",
          "text": "None values in features list:  0\n",
          "name": "stdout"
        }
      ]
    },
    {
      "metadata": {
        "trusted": true,
        "_uuid": "4f66ff032828145bdfa9f383d643a99e5b84439f"
      },
      "cell_type": "code",
      "source": "#Encoding\nnum_codes = 8\nfeatures_array, labels_array = to_multilabel_encode(features_list,labels_list, num_codes)",
      "execution_count": 95,
      "outputs": []
    },
    {
      "metadata": {
        "trusted": true,
        "_uuid": "b417c6d8a78a6794de28f701a235cec1887fc2cc"
      },
      "cell_type": "code",
      "source": "print(features_array.shape, labels_array.shape)",
      "execution_count": 96,
      "outputs": [
        {
          "output_type": "stream",
          "text": "(19913,) (19913, 8)\n",
          "name": "stdout"
        }
      ]
    },
    {
      "metadata": {
        "trusted": true,
        "_uuid": "b6e2004bf6d66e89ae5f3592dd4199b2daaaa986"
      },
      "cell_type": "code",
      "source": "#importing necessary tools\nfrom keras.models import Model, Input\nfrom keras.layers import Dense, Embedding, GlobalMaxPooling1D\nfrom keras.preprocessing.text import Tokenizer\nfrom keras.optimizers import Adam\nfrom keras.preprocessing.sequence import pad_sequences",
      "execution_count": 97,
      "outputs": []
    },
    {
      "metadata": {
        "trusted": true,
        "_uuid": "f6a43923d2fecb33fb595355afa173e9461f9eba"
      },
      "cell_type": "code",
      "source": "#setting some variables\nmax_features = 40000  # number of words we want to keep\nmaxlen = 500  # max length of the abstract in the model\nbatch_size = 64  # batch size for the model\nembedding_dims = 32  # dimension of the hidden variable, i.e. the embedding dimension",
      "execution_count": 100,
      "outputs": []
    },
    {
      "metadata": {
        "trusted": true,
        "_uuid": "53ed55fc47e97290491224dd6a81068f32896734"
      },
      "cell_type": "code",
      "source": "#shuffeling the data\nindices = np.arange(features_array.shape[0])\nnp.random.shuffle(indices)\nfeatures_array = features_array[indices]\nlabels_array = labels_array[indices]",
      "execution_count": 102,
      "outputs": []
    },
    {
      "metadata": {
        "trusted": true,
        "_uuid": "a5885d78d47b21bfc1cf1fe88ed6d7e24a51624c"
      },
      "cell_type": "code",
      "source": "#splitting test and train data\nX_train = features_array[0:len(features_array)//2]\nX_test = features_array[len(features_array)//2:]\n\ny_train = labels_array[0:len(labels_array)//2]\ny_test = labels_array[len(labels_array)//2:]",
      "execution_count": 103,
      "outputs": []
    },
    {
      "metadata": {
        "trusted": true,
        "scrolled": true,
        "_uuid": "1ab235842c4d31c423e5e4ea189aff2c93bfb338"
      },
      "cell_type": "code",
      "source": "#Tokenizing the data\ntok = Tokenizer(num_words = max_features)\ntok.fit_on_texts(X_train.tolist() + X_test.tolist())\nx_train = tok.texts_to_sequences(X_train)\nx_test = tok.texts_to_sequences(X_test)\nprint(len(x_train), 'train sequences')\nprint(len(x_test), 'test sequences')\nprint('Average train sequence length: {}'.format(np.mean(list(map(len, x_train)), dtype=int)))\nprint('Average test sequence length: {}'.format(np.mean(list(map(len, x_test)), dtype=int)))",
      "execution_count": 104,
      "outputs": [
        {
          "output_type": "stream",
          "text": "9956 train sequences\n9957 test sequences\nAverage train sequence length: 116\nAverage test sequence length: 115\n",
          "name": "stdout"
        }
      ]
    },
    {
      "metadata": {
        "trusted": true,
        "_uuid": "62f34a9915392ae8f0da5d64debde1e72f626600"
      },
      "cell_type": "code",
      "source": "#padding\nx_train = pad_sequences(x_train, maxlen=maxlen)\nx_test = pad_sequences(x_test, maxlen=maxlen)\nprint('x_train shape:', x_train.shape)\nprint('x_test shape:', x_test.shape)",
      "execution_count": 105,
      "outputs": [
        {
          "output_type": "stream",
          "text": "x_train shape: (9956, 500)\nx_test shape: (9957, 500)\n",
          "name": "stdout"
        }
      ]
    },
    {
      "metadata": {
        "trusted": true,
        "_uuid": "3fefe9f5099123343baaca92db8249cd141ceaee"
      },
      "cell_type": "code",
      "source": "#Defining the model\ndata_input = Input((maxlen,))\n\n# we start off with an efficient embedding layer which maps\n# our vocab indices into embedding_dims dimensions\ndata_emb = Embedding(max_features, embedding_dims, input_length=maxlen, \n                        embeddings_initializer=\"uniform\")(data_input)\n\n# we add a GlobalMaxPooling1D, which will extract features from the embeddings\n# of all words in the abstract\nh = GlobalMaxPooling1D()(data_emb)\n\n# We project onto a \"num_codes\"-unit output layer, and squash it with a sigmoid:\noutput = Dense(num_codes, activation='sigmoid')(h)\n\nmodel = Model(inputs=data_input, outputs=output)\n\nmodel.compile(loss='binary_crossentropy',\n              optimizer=Adam(0.01),\n              metrics=['accuracy'])",
      "execution_count": 106,
      "outputs": []
    },
    {
      "metadata": {
        "trusted": true,
        "scrolled": true,
        "_uuid": "ce2ea61c4b8289db4a94b9cd54f13402e6611240"
      },
      "cell_type": "code",
      "source": "hist = model.fit(x_train, y_train, batch_size=batch_size, epochs=6, validation_split=0.1)\n",
      "execution_count": 107,
      "outputs": [
        {
          "output_type": "stream",
          "text": "Train on 8960 samples, validate on 996 samples\nEpoch 1/6\n8960/8960 [==============================] - 8s 929us/step - loss: 0.3541 - acc: 0.8721 - val_loss: 0.2844 - val_acc: 0.8822\nEpoch 2/6\n8960/8960 [==============================] - 8s 849us/step - loss: 0.2673 - acc: 0.8891 - val_loss: 0.2616 - val_acc: 0.8927\nEpoch 3/6\n8960/8960 [==============================] - 8s 851us/step - loss: 0.2285 - acc: 0.9064 - val_loss: 0.2620 - val_acc: 0.8938\nEpoch 4/6\n8960/8960 [==============================] - 8s 858us/step - loss: 0.1929 - acc: 0.9248 - val_loss: 0.2694 - val_acc: 0.8929\nEpoch 5/6\n8960/8960 [==============================] - 8s 860us/step - loss: 0.1603 - acc: 0.9396 - val_loss: 0.2796 - val_acc: 0.8917\nEpoch 6/6\n8960/8960 [==============================] - 8s 861us/step - loss: 0.1325 - acc: 0.9527 - val_loss: 0.2993 - val_acc: 0.8891\n",
          "name": "stdout"
        }
      ]
    },
    {
      "metadata": {
        "trusted": true,
        "_uuid": "07eee798c3104f9a2e09afcd8ec8748a9f0e4e9e"
      },
      "cell_type": "markdown",
      "source": "Resources:\n\"Deep Learning with Python\", Francois Chollet\nhttps://www.depends-on-the-definition.com/guide-to-multi-label-classification-with-neural-networks/\nhttps://www.depends-on-the-definition.com/classify-toxic-comments-on-wikipedia/"
    }
  ],
  "metadata": {
    "kernelspec": {
      "display_name": "Python 3",
      "language": "python",
      "name": "python3"
    },
    "language_info": {
      "name": "python",
      "version": "3.6.6",
      "mimetype": "text/x-python",
      "codemirror_mode": {
        "name": "ipython",
        "version": 3
      },
      "pygments_lexer": "ipython3",
      "nbconvert_exporter": "python",
      "file_extension": ".py"
    }
  },
  "nbformat": 4,
  "nbformat_minor": 1
}